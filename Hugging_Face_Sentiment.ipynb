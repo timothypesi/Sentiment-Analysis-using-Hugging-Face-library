{
 "cells": [
  {
   "attachments": {},
   "cell_type": "markdown",
   "metadata": {},
   "source": [
    "This code demonstrates how to perform sentiment analysis on a column of text data in an Excel file using the Hugging Face library. First, the code imports the required libraries pandas and transformers. The torch library is also imported, but is not directly used in the code. Next, the code reads an Excel file named \"data.xlsx\" located in the same directory as the Python script into a Pandas DataFrame named df."
   ]
  },
  {
   "cell_type": "code",
   "execution_count": null,
   "metadata": {},
   "outputs": [],
   "source": [
    "import pandas as pd\n",
    "import torch\n",
    "from transformers import pipeline\n",
    "\n",
    "# Read the Excel file into a Pandas DataFrame\n",
    "df = pd.read_excel(\"data.xlsx\", sheet_name=\"Sheet1\")\n",
    "\n",
    "# Load the sentiment analysis model from Hugging Face\n",
    "classifier = pipeline(\"sentiment-analysis\", device=0)\n",
    "\n",
    "# Define a function to perform sentiment analysis on a text column using the Hugging Face model\n",
    "def get_sentiment(text):\n",
    "    result = classifier(text)[0]\n",
    "    label = result['label']\n",
    "    score = result['score']\n",
    "    if label == 'POSITIVE':\n",
    "        return 'positive', score\n",
    "    else:\n",
    "        return 'negative', score\n",
    "\n",
    "# Apply the get_sentiment function to the text column and create new columns for the sentiment and score\n",
    "df[[\"sentiment\", \"score\"]] = df[\"text\"].apply(lambda x: pd.Series(get_sentiment(x)))\n",
    "\n",
    "# Print the DataFrame to verify the data was processed correctly\n",
    "print(df.head())\n"
   ]
  }
 ],
 "metadata": {
  "language_info": {
   "name": "python"
  },
  "orig_nbformat": 4
 },
 "nbformat": 4,
 "nbformat_minor": 2
}
